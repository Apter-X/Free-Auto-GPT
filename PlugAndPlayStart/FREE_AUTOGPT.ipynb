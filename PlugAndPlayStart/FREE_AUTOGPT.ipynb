{
  "nbformat": 4,
  "nbformat_minor": 0,
  "metadata": {
    "colab": {
      "provenance": [],
      "collapsed_sections": [
        "WWnigaEo63W0",
        "k5YdBQWu7eWw",
        "UnP0gaxW9SBY",
        "H_aNlq64ANbf",
        "9y5lqAosD6xc"
      ]
    },
    "kernelspec": {
      "name": "python3",
      "display_name": "Python 3"
    },
    "language_info": {
      "name": "python"
    }
  },
  "cells": [
    {
      "cell_type": "markdown",
      "source": [
        "#USE AI AGENTs, like AUTOGPT or BABYAGI, without paids API. TOTALLY FOR FREE 🎁"
      ],
      "metadata": {
        "id": "IAnBqnxo2CkR"
      }
    },
    {
      "cell_type": "markdown",
      "source": [
        "![AUTO GPT FREE](https://github.com/IntelligenzaArtificiale/Free-AUTO-GPT-with-NO-API/raw/main/img/GH2.gif)"
      ],
      "metadata": {
        "id": "bMpPiTwk2vRT"
      }
    },
    {
      "cell_type": "markdown",
      "source": [
        "## SETUP REPOSITORY 📂\n"
      ],
      "metadata": {
        "id": "WWnigaEo63W0"
      }
    },
    {
      "cell_type": "code",
      "execution_count": 17,
      "metadata": {
        "id": "Me-TEdpy1-Zx",
        "colab": {
          "base_uri": "https://localhost:8080/"
        },
        "outputId": "42fe00ec-dc91-49c7-97b7-85acd3308bec"
      },
      "outputs": [
        {
          "output_type": "stream",
          "name": "stdout",
          "text": [
            "fatal: destination path 'Free-AUTO-GPT-with-NO-API' already exists and is not an empty directory.\n"
          ]
        }
      ],
      "source": [
        "!git clone https://github.com/IntelligenzaArtificiale/Free-AUTO-GPT-with-NO-API.git"
      ]
    },
    {
      "cell_type": "code",
      "source": [
        "!pip install -r /content/Free-AUTO-GPT-with-NO-API/requirements.txt \n",
        "!pip install faiss-gpu"
      ],
      "metadata": {
        "colab": {
          "base_uri": "https://localhost:8080/"
        },
        "id": "npyZzszN7MhH",
        "outputId": "a7ff78a0-8a57-4fd2-ad75-d8feb78e0781"
      },
      "execution_count": 18,
      "outputs": [
        {
          "output_type": "stream",
          "name": "stdout",
          "text": [
            "Looking in indexes: https://pypi.org/simple, https://us-python.pkg.dev/colab-wheels/public/simple/\n",
            "Requirement already satisfied: requests in /usr/local/lib/python3.10/dist-packages (from -r /content/Free-AUTO-GPT-with-NO-API/requirements.txt (line 1)) (2.29.0)\n",
            "Requirement already satisfied: langchain in /usr/local/lib/python3.10/dist-packages (from -r /content/Free-AUTO-GPT-with-NO-API/requirements.txt (line 2)) (0.0.152)\n",
            "Requirement already satisfied: streamlit in /usr/local/lib/python3.10/dist-packages (from -r /content/Free-AUTO-GPT-with-NO-API/requirements.txt (line 3)) (1.22.0)\n",
            "Requirement already satisfied: streamlit-chat-media in /usr/local/lib/python3.10/dist-packages (from -r /content/Free-AUTO-GPT-with-NO-API/requirements.txt (line 4)) (0.0.4)\n",
            "Requirement already satisfied: numpy in /usr/local/lib/python3.10/dist-packages (from -r /content/Free-AUTO-GPT-with-NO-API/requirements.txt (line 5)) (1.22.4)\n",
            "Requirement already satisfied: retry in /usr/local/lib/python3.10/dist-packages (from -r /content/Free-AUTO-GPT-with-NO-API/requirements.txt (line 6)) (0.9.2)\n",
            "Requirement already satisfied: revChatGPT in /usr/local/lib/python3.10/dist-packages (from -r /content/Free-AUTO-GPT-with-NO-API/requirements.txt (line 7)) (5.0.0)\n",
            "Requirement already satisfied: certifi>=2017.4.17 in /usr/local/lib/python3.10/dist-packages (from requests->-r /content/Free-AUTO-GPT-with-NO-API/requirements.txt (line 1)) (2022.12.7)\n",
            "Requirement already satisfied: charset-normalizer<4,>=2 in /usr/local/lib/python3.10/dist-packages (from requests->-r /content/Free-AUTO-GPT-with-NO-API/requirements.txt (line 1)) (2.0.12)\n",
            "Requirement already satisfied: idna<4,>=2.5 in /usr/local/lib/python3.10/dist-packages (from requests->-r /content/Free-AUTO-GPT-with-NO-API/requirements.txt (line 1)) (3.4)\n",
            "Requirement already satisfied: urllib3<1.27,>=1.21.1 in /usr/local/lib/python3.10/dist-packages (from requests->-r /content/Free-AUTO-GPT-with-NO-API/requirements.txt (line 1)) (1.26.15)\n",
            "Requirement already satisfied: tqdm>=4.48.0 in /usr/local/lib/python3.10/dist-packages (from langchain->-r /content/Free-AUTO-GPT-with-NO-API/requirements.txt (line 2)) (4.65.0)\n",
            "Requirement already satisfied: async-timeout<5.0.0,>=4.0.0 in /usr/local/lib/python3.10/dist-packages (from langchain->-r /content/Free-AUTO-GPT-with-NO-API/requirements.txt (line 2)) (4.0.2)\n",
            "Requirement already satisfied: SQLAlchemy<3,>1.3 in /usr/local/lib/python3.10/dist-packages (from langchain->-r /content/Free-AUTO-GPT-with-NO-API/requirements.txt (line 2)) (2.0.10)\n",
            "Requirement already satisfied: numexpr<3.0.0,>=2.8.4 in /usr/local/lib/python3.10/dist-packages (from langchain->-r /content/Free-AUTO-GPT-with-NO-API/requirements.txt (line 2)) (2.8.4)\n",
            "Requirement already satisfied: pydantic<2,>=1 in /usr/local/lib/python3.10/dist-packages (from langchain->-r /content/Free-AUTO-GPT-with-NO-API/requirements.txt (line 2)) (1.10.7)\n",
            "Requirement already satisfied: tenacity<9.0.0,>=8.1.0 in /usr/local/lib/python3.10/dist-packages (from langchain->-r /content/Free-AUTO-GPT-with-NO-API/requirements.txt (line 2)) (8.2.2)\n",
            "Requirement already satisfied: dataclasses-json<0.6.0,>=0.5.7 in /usr/local/lib/python3.10/dist-packages (from langchain->-r /content/Free-AUTO-GPT-with-NO-API/requirements.txt (line 2)) (0.5.7)\n",
            "Requirement already satisfied: PyYAML>=5.4.1 in /usr/local/lib/python3.10/dist-packages (from langchain->-r /content/Free-AUTO-GPT-with-NO-API/requirements.txt (line 2)) (6.0)\n",
            "Requirement already satisfied: aiohttp<4.0.0,>=3.8.3 in /usr/local/lib/python3.10/dist-packages (from langchain->-r /content/Free-AUTO-GPT-with-NO-API/requirements.txt (line 2)) (3.8.4)\n",
            "Requirement already satisfied: openapi-schema-pydantic<2.0,>=1.2 in /usr/local/lib/python3.10/dist-packages (from langchain->-r /content/Free-AUTO-GPT-with-NO-API/requirements.txt (line 2)) (1.2.4)\n",
            "Requirement already satisfied: watchdog in /usr/local/lib/python3.10/dist-packages (from streamlit->-r /content/Free-AUTO-GPT-with-NO-API/requirements.txt (line 3)) (3.0.0)\n",
            "Requirement already satisfied: gitpython!=3.1.19 in /usr/local/lib/python3.10/dist-packages (from streamlit->-r /content/Free-AUTO-GPT-with-NO-API/requirements.txt (line 3)) (3.1.31)\n",
            "Requirement already satisfied: validators>=0.2 in /usr/local/lib/python3.10/dist-packages (from streamlit->-r /content/Free-AUTO-GPT-with-NO-API/requirements.txt (line 3)) (0.20.0)\n",
            "Requirement already satisfied: protobuf<4,>=3.12 in /usr/local/lib/python3.10/dist-packages (from streamlit->-r /content/Free-AUTO-GPT-with-NO-API/requirements.txt (line 3)) (3.20.3)\n",
            "Requirement already satisfied: pillow>=6.2.0 in /usr/local/lib/python3.10/dist-packages (from streamlit->-r /content/Free-AUTO-GPT-with-NO-API/requirements.txt (line 3)) (8.4.0)\n",
            "Requirement already satisfied: cachetools>=4.0 in /usr/local/lib/python3.10/dist-packages (from streamlit->-r /content/Free-AUTO-GPT-with-NO-API/requirements.txt (line 3)) (5.3.0)\n",
            "Requirement already satisfied: rich>=10.11.0 in /usr/local/lib/python3.10/dist-packages (from streamlit->-r /content/Free-AUTO-GPT-with-NO-API/requirements.txt (line 3)) (13.3.4)\n",
            "Requirement already satisfied: tornado>=6.0.3 in /usr/local/lib/python3.10/dist-packages (from streamlit->-r /content/Free-AUTO-GPT-with-NO-API/requirements.txt (line 3)) (6.2)\n",
            "Requirement already satisfied: toml in /usr/local/lib/python3.10/dist-packages (from streamlit->-r /content/Free-AUTO-GPT-with-NO-API/requirements.txt (line 3)) (0.10.2)\n",
            "Requirement already satisfied: pandas<3,>=0.25 in /usr/local/lib/python3.10/dist-packages (from streamlit->-r /content/Free-AUTO-GPT-with-NO-API/requirements.txt (line 3)) (1.5.3)\n",
            "Requirement already satisfied: pympler>=0.9 in /usr/local/lib/python3.10/dist-packages (from streamlit->-r /content/Free-AUTO-GPT-with-NO-API/requirements.txt (line 3)) (1.0.1)\n",
            "Requirement already satisfied: typing-extensions>=3.10.0.0 in /usr/local/lib/python3.10/dist-packages (from streamlit->-r /content/Free-AUTO-GPT-with-NO-API/requirements.txt (line 3)) (4.5.0)\n",
            "Requirement already satisfied: pydeck>=0.1.dev5 in /usr/local/lib/python3.10/dist-packages (from streamlit->-r /content/Free-AUTO-GPT-with-NO-API/requirements.txt (line 3)) (0.8.1b0)\n",
            "Requirement already satisfied: pyarrow>=4.0 in /usr/local/lib/python3.10/dist-packages (from streamlit->-r /content/Free-AUTO-GPT-with-NO-API/requirements.txt (line 3)) (9.0.0)\n",
            "Requirement already satisfied: blinker>=1.0.0 in /usr/local/lib/python3.10/dist-packages (from streamlit->-r /content/Free-AUTO-GPT-with-NO-API/requirements.txt (line 3)) (1.6.2)\n",
            "Requirement already satisfied: python-dateutil in /usr/local/lib/python3.10/dist-packages (from streamlit->-r /content/Free-AUTO-GPT-with-NO-API/requirements.txt (line 3)) (2.8.2)\n",
            "Requirement already satisfied: importlib-metadata>=1.4 in /usr/local/lib/python3.10/dist-packages (from streamlit->-r /content/Free-AUTO-GPT-with-NO-API/requirements.txt (line 3)) (6.6.0)\n",
            "Requirement already satisfied: click>=7.0 in /usr/local/lib/python3.10/dist-packages (from streamlit->-r /content/Free-AUTO-GPT-with-NO-API/requirements.txt (line 3)) (8.1.3)\n",
            "Requirement already satisfied: packaging>=14.1 in /usr/local/lib/python3.10/dist-packages (from streamlit->-r /content/Free-AUTO-GPT-with-NO-API/requirements.txt (line 3)) (23.1)\n",
            "Requirement already satisfied: tzlocal>=1.1 in /usr/local/lib/python3.10/dist-packages (from streamlit->-r /content/Free-AUTO-GPT-with-NO-API/requirements.txt (line 3)) (4.3)\n",
            "Requirement already satisfied: altair<5,>=3.2.0 in /usr/local/lib/python3.10/dist-packages (from streamlit->-r /content/Free-AUTO-GPT-with-NO-API/requirements.txt (line 3)) (4.2.2)\n",
            "Requirement already satisfied: decorator>=3.4.2 in /usr/local/lib/python3.10/dist-packages (from retry->-r /content/Free-AUTO-GPT-with-NO-API/requirements.txt (line 6)) (4.4.2)\n",
            "Requirement already satisfied: py<2.0.0,>=1.4.26 in /usr/local/lib/python3.10/dist-packages (from retry->-r /content/Free-AUTO-GPT-with-NO-API/requirements.txt (line 6)) (1.11.0)\n",
            "Requirement already satisfied: OpenAIAuth==0.3.6 in /usr/local/lib/python3.10/dist-packages (from revChatGPT->-r /content/Free-AUTO-GPT-with-NO-API/requirements.txt (line 7)) (0.3.6)\n",
            "Requirement already satisfied: prompt-toolkit in /usr/local/lib/python3.10/dist-packages (from revChatGPT->-r /content/Free-AUTO-GPT-with-NO-API/requirements.txt (line 7)) (3.0.38)\n",
            "Requirement already satisfied: async-tio in /usr/local/lib/python3.10/dist-packages (from revChatGPT->-r /content/Free-AUTO-GPT-with-NO-API/requirements.txt (line 7)) (1.3.2)\n",
            "Requirement already satisfied: tiktoken>=0.3.0 in /usr/local/lib/python3.10/dist-packages (from revChatGPT->-r /content/Free-AUTO-GPT-with-NO-API/requirements.txt (line 7)) (0.3.3)\n",
            "Requirement already satisfied: httpx[socks] in /usr/local/lib/python3.10/dist-packages (from revChatGPT->-r /content/Free-AUTO-GPT-with-NO-API/requirements.txt (line 7)) (0.24.0)\n",
            "Requirement already satisfied: openai in /usr/local/lib/python3.10/dist-packages (from revChatGPT->-r /content/Free-AUTO-GPT-with-NO-API/requirements.txt (line 7)) (0.27.5)\n",
            "Requirement already satisfied: aiosignal>=1.1.2 in /usr/local/lib/python3.10/dist-packages (from aiohttp<4.0.0,>=3.8.3->langchain->-r /content/Free-AUTO-GPT-with-NO-API/requirements.txt (line 2)) (1.3.1)\n",
            "Requirement already satisfied: multidict<7.0,>=4.5 in /usr/local/lib/python3.10/dist-packages (from aiohttp<4.0.0,>=3.8.3->langchain->-r /content/Free-AUTO-GPT-with-NO-API/requirements.txt (line 2)) (6.0.4)\n",
            "Requirement already satisfied: attrs>=17.3.0 in /usr/local/lib/python3.10/dist-packages (from aiohttp<4.0.0,>=3.8.3->langchain->-r /content/Free-AUTO-GPT-with-NO-API/requirements.txt (line 2)) (23.1.0)\n",
            "Requirement already satisfied: frozenlist>=1.1.1 in /usr/local/lib/python3.10/dist-packages (from aiohttp<4.0.0,>=3.8.3->langchain->-r /content/Free-AUTO-GPT-with-NO-API/requirements.txt (line 2)) (1.3.3)\n",
            "Requirement already satisfied: yarl<2.0,>=1.0 in /usr/local/lib/python3.10/dist-packages (from aiohttp<4.0.0,>=3.8.3->langchain->-r /content/Free-AUTO-GPT-with-NO-API/requirements.txt (line 2)) (1.9.2)\n",
            "Requirement already satisfied: toolz in /usr/local/lib/python3.10/dist-packages (from altair<5,>=3.2.0->streamlit->-r /content/Free-AUTO-GPT-with-NO-API/requirements.txt (line 3)) (0.12.0)\n",
            "Requirement already satisfied: jsonschema>=3.0 in /usr/local/lib/python3.10/dist-packages (from altair<5,>=3.2.0->streamlit->-r /content/Free-AUTO-GPT-with-NO-API/requirements.txt (line 3)) (4.3.3)\n",
            "Requirement already satisfied: jinja2 in /usr/local/lib/python3.10/dist-packages (from altair<5,>=3.2.0->streamlit->-r /content/Free-AUTO-GPT-with-NO-API/requirements.txt (line 3)) (3.1.2)\n",
            "Requirement already satisfied: entrypoints in /usr/local/lib/python3.10/dist-packages (from altair<5,>=3.2.0->streamlit->-r /content/Free-AUTO-GPT-with-NO-API/requirements.txt (line 3)) (0.4)\n",
            "Requirement already satisfied: marshmallow-enum<2.0.0,>=1.5.1 in /usr/local/lib/python3.10/dist-packages (from dataclasses-json<0.6.0,>=0.5.7->langchain->-r /content/Free-AUTO-GPT-with-NO-API/requirements.txt (line 2)) (1.5.1)\n",
            "Requirement already satisfied: typing-inspect>=0.4.0 in /usr/local/lib/python3.10/dist-packages (from dataclasses-json<0.6.0,>=0.5.7->langchain->-r /content/Free-AUTO-GPT-with-NO-API/requirements.txt (line 2)) (0.8.0)\n",
            "Requirement already satisfied: marshmallow<4.0.0,>=3.3.0 in /usr/local/lib/python3.10/dist-packages (from dataclasses-json<0.6.0,>=0.5.7->langchain->-r /content/Free-AUTO-GPT-with-NO-API/requirements.txt (line 2)) (3.19.0)\n",
            "Requirement already satisfied: gitdb<5,>=4.0.1 in /usr/local/lib/python3.10/dist-packages (from gitpython!=3.1.19->streamlit->-r /content/Free-AUTO-GPT-with-NO-API/requirements.txt (line 3)) (4.0.10)\n",
            "Requirement already satisfied: zipp>=0.5 in /usr/local/lib/python3.10/dist-packages (from importlib-metadata>=1.4->streamlit->-r /content/Free-AUTO-GPT-with-NO-API/requirements.txt (line 3)) (3.15.0)\n",
            "Requirement already satisfied: pytz>=2020.1 in /usr/local/lib/python3.10/dist-packages (from pandas<3,>=0.25->streamlit->-r /content/Free-AUTO-GPT-with-NO-API/requirements.txt (line 3)) (2022.7.1)\n",
            "Requirement already satisfied: six>=1.5 in /usr/local/lib/python3.10/dist-packages (from python-dateutil->streamlit->-r /content/Free-AUTO-GPT-with-NO-API/requirements.txt (line 3)) (1.16.0)\n",
            "Requirement already satisfied: pygments<3.0.0,>=2.13.0 in /usr/local/lib/python3.10/dist-packages (from rich>=10.11.0->streamlit->-r /content/Free-AUTO-GPT-with-NO-API/requirements.txt (line 3)) (2.14.0)\n",
            "Requirement already satisfied: markdown-it-py<3.0.0,>=2.2.0 in /usr/local/lib/python3.10/dist-packages (from rich>=10.11.0->streamlit->-r /content/Free-AUTO-GPT-with-NO-API/requirements.txt (line 3)) (2.2.0)\n",
            "Requirement already satisfied: greenlet!=0.4.17 in /usr/local/lib/python3.10/dist-packages (from SQLAlchemy<3,>1.3->langchain->-r /content/Free-AUTO-GPT-with-NO-API/requirements.txt (line 2)) (2.0.2)\n",
            "Requirement already satisfied: regex>=2022.1.18 in /usr/local/lib/python3.10/dist-packages (from tiktoken>=0.3.0->revChatGPT->-r /content/Free-AUTO-GPT-with-NO-API/requirements.txt (line 7)) (2022.10.31)\n",
            "Requirement already satisfied: pytz-deprecation-shim in /usr/local/lib/python3.10/dist-packages (from tzlocal>=1.1->streamlit->-r /content/Free-AUTO-GPT-with-NO-API/requirements.txt (line 3)) (0.1.0.post0)\n",
            "Requirement already satisfied: httpcore<0.18.0,>=0.15.0 in /usr/local/lib/python3.10/dist-packages (from httpx[socks]->revChatGPT->-r /content/Free-AUTO-GPT-with-NO-API/requirements.txt (line 7)) (0.17.0)\n",
            "Requirement already satisfied: sniffio in /usr/local/lib/python3.10/dist-packages (from httpx[socks]->revChatGPT->-r /content/Free-AUTO-GPT-with-NO-API/requirements.txt (line 7)) (1.3.0)\n",
            "Requirement already satisfied: socksio==1.* in /usr/local/lib/python3.10/dist-packages (from httpx[socks]->revChatGPT->-r /content/Free-AUTO-GPT-with-NO-API/requirements.txt (line 7)) (1.0.0)\n",
            "Requirement already satisfied: wcwidth in /usr/local/lib/python3.10/dist-packages (from prompt-toolkit->revChatGPT->-r /content/Free-AUTO-GPT-with-NO-API/requirements.txt (line 7)) (0.2.6)\n",
            "Requirement already satisfied: PySocks!=1.5.7,>=1.5.6 in /usr/local/lib/python3.10/dist-packages (from requests->-r /content/Free-AUTO-GPT-with-NO-API/requirements.txt (line 1)) (1.7.1)\n",
            "Requirement already satisfied: smmap<6,>=3.0.1 in /usr/local/lib/python3.10/dist-packages (from gitdb<5,>=4.0.1->gitpython!=3.1.19->streamlit->-r /content/Free-AUTO-GPT-with-NO-API/requirements.txt (line 3)) (5.0.0)\n",
            "Requirement already satisfied: h11<0.15,>=0.13 in /usr/local/lib/python3.10/dist-packages (from httpcore<0.18.0,>=0.15.0->httpx[socks]->revChatGPT->-r /content/Free-AUTO-GPT-with-NO-API/requirements.txt (line 7)) (0.14.0)\n",
            "Requirement already satisfied: anyio<5.0,>=3.0 in /usr/local/lib/python3.10/dist-packages (from httpcore<0.18.0,>=0.15.0->httpx[socks]->revChatGPT->-r /content/Free-AUTO-GPT-with-NO-API/requirements.txt (line 7)) (3.6.2)\n",
            "Requirement already satisfied: MarkupSafe>=2.0 in /usr/local/lib/python3.10/dist-packages (from jinja2->altair<5,>=3.2.0->streamlit->-r /content/Free-AUTO-GPT-with-NO-API/requirements.txt (line 3)) (2.1.2)\n",
            "Requirement already satisfied: pyrsistent!=0.17.0,!=0.17.1,!=0.17.2,>=0.14.0 in /usr/local/lib/python3.10/dist-packages (from jsonschema>=3.0->altair<5,>=3.2.0->streamlit->-r /content/Free-AUTO-GPT-with-NO-API/requirements.txt (line 3)) (0.19.3)\n",
            "Requirement already satisfied: mdurl~=0.1 in /usr/local/lib/python3.10/dist-packages (from markdown-it-py<3.0.0,>=2.2.0->rich>=10.11.0->streamlit->-r /content/Free-AUTO-GPT-with-NO-API/requirements.txt (line 3)) (0.1.2)\n",
            "Requirement already satisfied: mypy-extensions>=0.3.0 in /usr/local/lib/python3.10/dist-packages (from typing-inspect>=0.4.0->dataclasses-json<0.6.0,>=0.5.7->langchain->-r /content/Free-AUTO-GPT-with-NO-API/requirements.txt (line 2)) (1.0.0)\n",
            "Requirement already satisfied: tzdata in /usr/local/lib/python3.10/dist-packages (from pytz-deprecation-shim->tzlocal>=1.1->streamlit->-r /content/Free-AUTO-GPT-with-NO-API/requirements.txt (line 3)) (2023.3)\n",
            "\u001b[31mERROR: Operation cancelled by user\u001b[0m\u001b[31m\n",
            "\u001b[0mLooking in indexes: https://pypi.org/simple, https://us-python.pkg.dev/colab-wheels/public/simple/\n",
            "Requirement already satisfied: faiss-gpu in /usr/local/lib/python3.10/dist-packages (1.7.2)\n",
            "\u001b[31mERROR: Operation cancelled by user\u001b[0m\u001b[31m\n",
            "\u001b[0m"
          ]
        }
      ]
    },
    {
      "cell_type": "markdown",
      "source": [
        "## HOW TO GET CHATGPT & HUGGINGFACE TOKEN FREE 💡\n",
        " "
      ],
      "metadata": {
        "id": "k5YdBQWu7eWw"
      }
    },
    {
      "cell_type": "markdown",
      "source": [
        "- HUGGINGFACE  : Visit this simple [official guide](https://huggingface.co/docs/hub/security-tokens)\n",
        "- CHATGPT : visit this [site](https://chat.openai.com/api/auth/session) and copy the \"accessToken\"\n",
        "\n",
        "![image](https://user-images.githubusercontent.com/108482353/234968090-b724e277-566c-4e42-9936-7592043f70fa.png)\n",
        "\n",
        "**SAVE only your token, without anything else.**"
      ],
      "metadata": {
        "id": "Ia_ZQWBi7u1y"
      }
    },
    {
      "cell_type": "markdown",
      "source": [
        "### 🚀SAVE HERE YOURS TOKENs🚀\n",
        "\n",
        "**HuggingFACE TOKEN** : _YOURtOkEN_\n",
        "\n",
        "\n",
        "**CHATGPT TOKEN** : _YOURtOkEN-is-SO-LOnG_"
      ],
      "metadata": {
        "id": "ZJ5uN73z8W5q"
      }
    },
    {
      "cell_type": "markdown",
      "source": [
        "## RUN BABYAGI 👶"
      ],
      "metadata": {
        "id": "UnP0gaxW9SBY"
      }
    },
    {
      "cell_type": "code",
      "source": [
        "#Open the /content/Free-AUTO-GPT-with-NO-API/BABYAGI.py and modify the \"verbose\" and \"max_iterations\" .\n",
        "#Set \"verbose=True\" for view the debug \n",
        "#Change \"max_iterations\" to add more step (if \"max_iterations\" If None, will keep on going forever) default is 2. I suggest 5.\n",
        "\n",
        "!python /content/Free-AUTO-GPT-with-NO-API/BABYAGI.py --hf_token <HF-TOKEN> --chatgpt_token <CHATGPT-TOKEN>"
      ],
      "metadata": {
        "colab": {
          "base_uri": "https://localhost:8080/"
        },
        "id": "KA0gJrtI7tyW",
        "outputId": "f9a892a1-fab3-4115-e0b5-efe6c1825e56"
      },
      "execution_count": 9,
      "outputs": [
        {
          "output_type": "stream",
          "name": "stdout",
          "text": [
            "<langchain.vectorstores.faiss.FAISS object at 0x7f6211767160>\n",
            "Enter the objective of the AI system: (Be realistic!) Create a futuristic business plan for a AI startup that create AUTONOMUS AI AGENT capable of performing tasks.\n",
            "\u001b[95m\u001b[1m\n",
            "*****TASK LIST*****\n",
            "\u001b[0m\u001b[0m\n",
            "1: Make a todo list\n",
            "\u001b[92m\u001b[1m\n",
            "*****NEXT TASK*****\n",
            "\u001b[0m\u001b[0m\n",
            "1: Make a todo list\n",
            "\u001b[93m\u001b[1m\n",
            "*****TASK RESULT*****\n",
            "\u001b[0m\u001b[0m\n",
            "Sure, here's a todo list for creating a futuristic business plan for an AI startup that creates AUTONOMOUS AI AGENTS:\n",
            "\n",
            "1. Research the current market landscape for AI and autonomous agents.\n",
            "2. Identify potential customer segments and use cases for the autonomous AI agents.\n",
            "3. Conduct a feasibility study to evaluate the technical requirements and challenges of developing autonomous AI agents.\n",
            "4. Determine the required resources (financial, technical, and human) for developing the product.\n",
            "5. Create a business model that outlines revenue streams, pricing strategies, and customer acquisition channels.\n",
            "6. Develop a marketing plan that effectively communicates the value proposition of the autonomous AI agents to potential customers.\n",
            "7. Establish partnerships and collaborations with other companies in the industry to leverage their expertise and resources.\n",
            "8. Build a talented and diverse team with expertise in AI, machine learning, software engineering, and business development.\n",
            "9. Develop a roadmap for product development that outlines the milestones and timelines for launching the autonomous AI agents.\n",
            "10. Evaluate and mitigate potential risks and challenges that may arise during product development and launch.\n",
            "\n",
            "I hope this helps you with your task!\n",
            "\u001b[95m\u001b[1m\n",
            "*****TASK LIST*****\n",
            "\u001b[0m\u001b[0m\n",
            "2: Conduct a competitive analysis to identify the strengths and weaknesses of potential competitors in the market.\n",
            "3: Identify potential regulatory and legal requirements that may impact the development and launch of the autonomous AI agents.\n",
            "4: Explore different AI and machine learning techniques that can be used to improve the functionality and performance of the autonomous AI agents.\n",
            "5: Create a prototype of the autonomous AI agent and conduct testing to ensure that it meets customer needs and expectations.\n",
            "6: Develop a user interface and user experience (UI/UX) design that is intuitive and user-friendly for customers.\n",
            "7: Establish a feedback loop with customers to gather insights and continuously improve the product.\n",
            "8: Develop a pricing strategy that aligns with the value proposition of the autonomous AI agents and is competitive in the market.\n",
            "9: Build a strong brand and reputation in the market through effective branding and public relations strategies.\n",
            "10: Identify potential funding sources and investors to support the development and launch of the autonomous AI agents.\n",
            "11: Establish partnerships with universities and research institutions to stay up-to-date with the latest advancements in AI and machine learning technology.\n",
            "\u001b[92m\u001b[1m\n",
            "*****NEXT TASK*****\n",
            "\u001b[0m\u001b[0m\n",
            "2: Conduct a competitive analysis to identify the strengths and weaknesses of potential competitors in the market.\n",
            "\u001b[93m\u001b[1m\n",
            "*****TASK RESULT*****\n",
            "\u001b[0m\u001b[0m\n",
            "Sure, I can help you conduct a competitive analysis to identify the strengths and weaknesses of potential competitors in the market.\n",
            "\n",
            "First, it's important to identify the key competitors in the market. In the field of AI-powered autonomous agents, there are several notable players, including OpenAI, Google, Microsoft, IBM, and Amazon.\n",
            "\n",
            "Strengths of potential competitors:\n",
            "\n",
            "1. OpenAI: OpenAI is one of the leading players in the AI industry, and it has a strong reputation for developing cutting-edge AI technology. Its GPT models are widely used in natural language processing, and it has also made significant strides in computer vision and robotics.\n",
            "\n",
            "2. Google: Google has a vast amount of data and resources at its disposal, and it has a strong track record of developing AI-powered products and services. Its DeepMind subsidiary is particularly notable for its work on reinforcement learning, which could be applicable to autonomous agents.\n",
            "\n",
            "3. Microsoft: Microsoft has been investing heavily in AI research and development in recent years, and it has a number of AI-powered products and services, including its Azure Cognitive Services platform. Its acquisition of Nuance Communications in 2021 also gives it a strong foothold in the healthcare industry, which could be a potential market for autonomous agents.\n",
            "\n",
            "4. IBM: IBM has a long history of developing cutting-edge technology, and it has been investing heavily in AI in recent years. Its Watson platform is particularly notable for its ability to process and analyze vast amounts of data.\n",
            "\n",
            "5. Amazon: Amazon is a dominant player in the cloud computing industry, and it has a number of AI-powered products and services, including its Alexa virtual assistant. Its acquisition of Zoox in 2020 also gives it a potential foothold in the autonomous vehicle market.\n",
            "\n",
            "Weaknesses of potential competitors:\n",
            "\n",
            "1. OpenAI: OpenAI is a relatively new company, and it may not have the same level of experience and resources as some of its larger competitors. Additionally, its decision to focus on developing general-purpose AI technology rather than specific products or services could be a disadvantage.\n",
            "\n",
            "2. Google: Google has faced criticism in the past for its use of AI, particularly in relation to privacy and ethics concerns. Additionally, it may face challenges in developing autonomous agents that are compatible with a wide range of hardware and software platforms.\n",
            "\n",
            "3. Microsoft: Microsoft's focus on developing AI-powered products and services could be a double-edged sword. While it has the potential to develop innovative solutions, it may also face challenges in scaling those solutions to a wider audience.\n",
            "\n",
            "4. IBM: IBM's Watson platform has faced criticism for its high cost and complexity, which could be a barrier to adoption for some businesses. Additionally, IBM may struggle to compete with more nimble startups that are able to develop and deploy AI-powered solutions more quickly.\n",
            "\n",
            "5. Amazon: Amazon has faced criticism for its use of AI in its hiring and management processes, which could impact its reputation and brand image. Additionally, its acquisition of Zoox may not be enough to give it a competitive edge in the autonomous vehicle market, which is becoming increasingly crowded.\n",
            "\n",
            "Overall, there are a number of strong players in the market for AI-powered autonomous agents, and each has its own unique strengths and weaknesses. To succeed in this space, a startup would need to develop a unique value proposition and focus on delivering innovative solutions that meet the specific needs of its target customers.\n",
            "\u001b[91m\u001b[1m\n",
            "*****TASK ENDING*****\n",
            "\u001b[0m\u001b[0m\n"
          ]
        }
      ]
    },
    {
      "cell_type": "markdown",
      "source": [
        "## RUN AUTOGPT 🤖"
      ],
      "metadata": {
        "id": "H_aNlq64ANbf"
      }
    },
    {
      "cell_type": "code",
      "source": [
        "#Open the /content/Free-AUTO-GPT-with-NO-API/BABYAGI.py and modify or add new tool \n",
        "\"\"\"\n",
        "#ACTUAL TOOL \n",
        "tools = [\n",
        "    web_search, #DuckDuckGoSearchRun()\n",
        "    WriteFileTool(root_dir=\"/data\"),\n",
        "    ReadFileTool(root_dir=\"/data\"),\n",
        "    process_csv,\n",
        "    query_website_tool, playwright()\n",
        "    # HumanInputRun(), # Activate if you want the permit asking for help from the human\n",
        "]\n",
        "\"\"\"\n",
        "!python /content/Free-AUTO-GPT-with-NO-API/AUTOGPT.py --hf_token <HF-TOKEN> --chatgpt_token <CHATGPT-TOKEN>"
      ],
      "metadata": {
        "colab": {
          "base_uri": "https://localhost:8080/"
        },
        "outputId": "dc657529-cef2-4454-c7e8-08e927b637b5",
        "id": "6r5HaCcHANb5"
      },
      "execution_count": 14,
      "outputs": [
        {
          "output_type": "stream",
          "name": "stdout",
          "text": [
            "Enter the objective of the AI system: (Be realistic!) Write a small report on the current temperature in New York, including the time\n",
            "{\n",
            "    \"thoughts\": {\n",
            "        \"text\": \"I need to determine the current temperature in New York. I can use a search engine to find this information.\",\n",
            "        \"reasoning\": \"I will use the DuckDuckGo Search command to search for the current temperature in New York. This will provide me with up-to-date information on the current temperature in the city.\",\n",
            "        \"plan\": \"- Use the DuckDuckGo Search command to search for the current temperature in New York\\n- Save the result to a file\",\n",
            "        \"criticism\": \"I need to make sure that the information I find is accurate and up-to-date. I should also make sure that the file is saved in a place where it can be easily retrieved later.\",\n",
            "        \"speak\": \"I will use the DuckDuckGo Search command to find the current temperature in New York.\"\n",
            "    },\n",
            "    \"command\": {\n",
            "        \"name\": \"DuckDuckGo Search\",\n",
            "        \"args\": {\n",
            "            \"query\": \"current temperature in New York\"\n",
            "        }\n",
            "    }\n",
            "}\n",
            "{\n",
            "    \"thoughts\": {\n",
            "        \"text\": \"I will use the DuckDuckGo Search command to find the current temperature in New York.\",\n",
            "        \"reasoning\": \"Using a search engine will allow me to quickly and accurately retrieve the most up-to-date temperature information for New York.\",\n",
            "        \"plan\": \"- Use the DuckDuckGo Search command to search for the current temperature in New York\\n- Save the result to a file\",\n",
            "        \"criticism\": \"I need to make sure that the information I find is accurate and up-to-date. I should also make sure that the file is saved in a place where it can be easily retrieved later.\",\n",
            "        \"speak\": \"I will use the DuckDuckGo Search command to find the current temperature in New York.\"\n",
            "    },\n",
            "    \"command\": {\n",
            "        \"name\": \"DuckDuckGo Search\",\n",
            "        \"args\": {\n",
            "            \"query\": \"current temperature in New York\"\n",
            "        }\n",
            "    }\n",
            "}\n",
            "{\n",
            "    \"thoughts\": {\n",
            "        \"text\": \"I will use the DuckDuckGo Search command to find the current temperature in New York.\",\n",
            "        \"reasoning\": \"This will provide me with up-to-date information on the current temperature in the city.\",\n",
            "        \"plan\": \"- Use the DuckDuckGo Search command to search for the current temperature in New York\\n- Save the result to a file\",\n",
            "        \"criticism\": \"I need to make sure that the information I find is accurate and up-to-date. I should also make sure that the file is saved in a place where it can be easily retrieved later.\",\n",
            "        \"speak\": \"I will use the DuckDuckGo Search command to find the current temperature in New York.\"\n",
            "    },\n",
            "    \"command\": {\n",
            "        \"name\": \"DuckDuckGo Search\",\n",
            "        \"args\": {\n",
            "            \"query\": \"current temperature in New York\"\n",
            "        }\n",
            "    }\n",
            "}\n",
            "{\n",
            "    \"thoughts\": {\n",
            "        \"text\": \"I need to write a small report on the current temperature in New York, including the time. I have found the information using the DuckDuckGo Search command. I should write the report in a clear and concise manner, and make sure to include the time and date of the current temperature.\",\n",
            "        \"reasoning\": \"I will use the write_file command to create a text file where I will write the report. I will include the time and date of the current temperature, as well as the source of the information. This will ensure that the report is accurate and can be easily verified. \",\n",
            "        \"plan\": \"- Use the write_file command to create a text file for the report\\n- Write a clear and concise report on the current temperature in New York, including the time and date, and the source of the information\\n- Save the file for later retrieval\",\n",
            "        \"criticism\": \"I need to make sure that the report is accurate and up-to-date. I should also make sure that the file is saved in a place where it can be easily retrieved later.\",\n",
            "        \"speak\": \"I will use the write_file command to create a report on the current temperature in New York, including the time and date of the information and the source of the data.\"\n",
            "    },\n",
            "    \"command\": {\n",
            "        \"name\": \"write_file\",\n",
            "        \"args\": {\n",
            "            \"file_path\": \"current_temperature_ny.txt\",\n",
            "            \"text\": \"Current temperature in New York as of Fri Apr 28 08:44:23 2023:\\n\\nAccording to AccuWeather, the current temperature in New York is X degrees Fahrenheit. The source of the information is the DuckDuckGo search engine. This report was generated by Tom, Assistant, on Fri Apr 28 08:44:23 2023.\"\n",
            "        }\n",
            "    }\n",
            "}\n",
            "Tom: {\"thoughts\": {\"text\": \"I will use the DuckDuckGo Search command to find the current temperature in New York.\", \"reasoning\": \"This will provide me with up-to-date information on the current temperature in the city.\", \"plan\": \"- Use the DuckDuckGo Search command to search for the current temperature in New York\\n- Save the result to a file\", \"criticism\": \"I need to make sure that the information I find is accurate and up-to-date. I should also make sure that the file is saved in a place where it can be easily retrieved later.\", \"speak\": \"I will use the DuckDuckGo Search command to find the current temperature in New York.\"}, \"command\": {\"name\": \"DuckDuckGo Search\", \"args\": {\"query\": \"current temperature in New York\"}}}\n",
            "Assistant Reply: \n",
            "\n",
            "{\n",
            "    \"thoughts\": {\n",
            "        \"text\": \"I will write a small report on the current temperature in New York, including the time.\",\n",
            "        \"reasoning\": \"This will fulfill the goal of reporting on the current temperature in New York, and also provide a concise report on the time of the report, allowing for easy reference in the future.\",\n",
            "        \"plan\": \"- Use the DuckDuckGo Search command to search for the current temperature in New York. \\n- Extract the relevant information from the search results. \\n- Use the write_file command to save the report to a file.\",\n",
            "        \"criticism\": \"I need to make sure that the report is concise and accurate. I should also make sure that the file is saved in a place where it can be easily retrieved later.\",\n",
            "        \"speak\": \"I will write a small report on the current temperature in New York, including the time.\"\n",
            "    },\n",
            "    \"command\": {\n",
            "        \"name\": \"write_file\",\n",
            "        \"args\": {\n",
            "            \"file_path\": \"temperature_report.txt\",\n",
            "            \"text\": \"As of Fri Apr 28 08:45:23 2023, the current temperature in New York is 65°F.\\n\"\n",
            "        }\n",
            "    }\n",
            "}\n",
            "I will use the DuckDuckGo Search command to find the current temperature in New York.\n",
            "\n",
            "Reasoning: This will provide me with up-to-date information on the current temperature in the city.\n",
            "\n",
            "Plan: \n",
            "- Use the DuckDuckGo Search command to search for the current temperature in New York\n",
            "- Save the result to a file\n",
            "\n",
            "Criticism: I need to make sure that the information I find is accurate and up-to-date. I should also make sure that the file is saved in a place where it can be easily retrieved later.\n",
            "\n",
            "Speak: \"I will use the DuckDuckGo Search command to find the current temperature in New York.\"\n",
            "\n",
            "{\"command\": {\"name\": \"DuckDuckGo Search\", \"args\": {\"query\": \"current temperature in New York\"}}, \"thoughts\": {\"text\": \"I will use the DuckDuckGo Search command to find the current temperature in New York.\", \"reasoning\": \"This will provide me with up-to-date information on the current temperature in the city.\", \"plan\": \"- Use the DuckDuckGo Search command to search for the current temperature in New York\\n- Save the result to a file\", \"criticism\": \"I need to make sure that the information I find is accurate and up-to-date. I should also make sure that the file is saved in a place where it can be easily retrieved later.\", \"speak\": \"I will use the DuckDuckGo Search command to find the current temperature in New York.\"}}\n",
            "Traceback (most recent call last):\n",
            "  File \"/usr/local/lib/python3.10/dist-packages/urllib3/response.py\", line 444, in _error_catcher\n",
            "    yield\n",
            "  File \"/usr/local/lib/python3.10/dist-packages/urllib3/response.py\", line 828, in read_chunked\n",
            "    self._update_chunk_length()\n",
            "  File \"/usr/local/lib/python3.10/dist-packages/urllib3/response.py\", line 758, in _update_chunk_length\n",
            "    line = self._fp.fp.readline()\n",
            "  File \"/usr/lib/python3.10/socket.py\", line 705, in readinto\n",
            "    return self._sock.recv_into(b)\n",
            "  File \"/usr/lib/python3.10/ssl.py\", line 1274, in recv_into\n",
            "    return self.read(nbytes, buffer)\n",
            "  File \"/usr/lib/python3.10/ssl.py\", line 1130, in read\n",
            "    return self._sslobj.read(len, buffer)\n",
            "KeyboardInterrupt\n",
            "\n",
            "During handling of the above exception, another exception occurred:\n",
            "\n",
            "Traceback (most recent call last):\n",
            "  File \"/content/Free-AUTO-GPT-with-NO-API/AUTOGPT.py\", line 194, in <module>\n",
            "    agent.run([input(\"Enter the objective of the AI system: (Be realistic!) \")])\n",
            "  File \"/usr/local/lib/python3.10/dist-packages/langchain/experimental/autonomous_agents/autogpt/agent.py\", line 91, in run\n",
            "    assistant_reply = self.chain.run(\n",
            "  File \"/usr/local/lib/python3.10/dist-packages/langchain/chains/base.py\", line 216, in run\n",
            "    return self(kwargs)[self.output_keys[0]]\n",
            "  File \"/usr/local/lib/python3.10/dist-packages/langchain/chains/base.py\", line 116, in __call__\n",
            "    raise e\n",
            "  File \"/usr/local/lib/python3.10/dist-packages/langchain/chains/base.py\", line 113, in __call__\n",
            "    outputs = self._call(inputs)\n",
            "  File \"/usr/local/lib/python3.10/dist-packages/langchain/chains/llm.py\", line 57, in _call\n",
            "    return self.apply([inputs])[0]\n",
            "  File \"/usr/local/lib/python3.10/dist-packages/langchain/chains/llm.py\", line 118, in apply\n",
            "    response = self.generate(input_list)\n",
            "  File \"/usr/local/lib/python3.10/dist-packages/langchain/chains/llm.py\", line 62, in generate\n",
            "    return self.llm.generate_prompt(prompts, stop)\n",
            "  File \"/usr/local/lib/python3.10/dist-packages/langchain/llms/base.py\", line 107, in generate_prompt\n",
            "    return self.generate(prompt_strings, stop=stop)\n",
            "  File \"/usr/local/lib/python3.10/dist-packages/langchain/llms/base.py\", line 140, in generate\n",
            "    raise e\n",
            "  File \"/usr/local/lib/python3.10/dist-packages/langchain/llms/base.py\", line 137, in generate\n",
            "    output = self._generate(prompts, stop=stop)\n",
            "  File \"/usr/local/lib/python3.10/dist-packages/langchain/llms/base.py\", line 324, in _generate\n",
            "    text = self._call(prompt, stop=stop)\n",
            "  File \"/content/Free-AUTO-GPT-with-NO-API/ChatGPTAPI.py\", line 42, in _call\n",
            "    for data in self.chatbot.ask( prompt ):\n",
            "  File \"/usr/local/lib/python3.10/dist-packages/revChatGPT/V1.py\", line 556, in ask\n",
            "    yield from self.post_messages(\n",
            "  File \"/usr/local/lib/python3.10/dist-packages/revChatGPT/V1.py\", line 510, in post_messages\n",
            "    yield from self.__send_request(\n",
            "  File \"/usr/local/lib/python3.10/dist-packages/revChatGPT/V1.py\", line 368, in __send_request\n",
            "    for line in response.iter_lines():\n",
            "  File \"/usr/local/lib/python3.10/dist-packages/requests/models.py\", line 865, in iter_lines\n",
            "    for chunk in self.iter_content(\n",
            "  File \"/usr/local/lib/python3.10/dist-packages/requests/models.py\", line 816, in generate\n",
            "    yield from self.raw.stream(chunk_size, decode_content=True)\n",
            "  File \"/usr/local/lib/python3.10/dist-packages/urllib3/response.py\", line 624, in stream\n",
            "    for line in self.read_chunked(amt, decode_content=decode_content):\n",
            "  File \"/usr/local/lib/python3.10/dist-packages/urllib3/response.py\", line 816, in read_chunked\n",
            "    with self._error_catcher():\n",
            "  File \"/usr/lib/python3.10/contextlib.py\", line 153, in __exit__\n",
            "    self.gen.throw(typ, value, traceback)\n",
            "  File \"/usr/local/lib/python3.10/dist-packages/urllib3/response.py\", line 474, in _error_catcher\n",
            "    self._original_response.close()\n",
            "  File \"/usr/lib/python3.10/http/client.py\", line 419, in close\n",
            "    super().close() # set \"closed\" flag\n",
            "  File \"/usr/lib/python3.10/http/client.py\", line 429, in flush\n",
            "    def flush(self):\n",
            "KeyboardInterrupt\n",
            "^C\n"
          ]
        }
      ]
    },
    {
      "cell_type": "markdown",
      "source": [
        "## RUN CAMEL with Streamlit.io 🐪"
      ],
      "metadata": {
        "id": "9y5lqAosD6xc"
      }
    },
    {
      "cell_type": "code",
      "source": [
        "# SETUP COLAB for run Streamlit\n",
        "!npm install localtunnel"
      ],
      "metadata": {
        "colab": {
          "base_uri": "https://localhost:8080/"
        },
        "id": "xrgp7pCcEFWw",
        "outputId": "168e898f-4b3f-4e8d-f9b9-f20604b20a29"
      },
      "execution_count": 15,
      "outputs": [
        {
          "output_type": "stream",
          "name": "stdout",
          "text": [
            "\u001b[K\u001b[?25h\u001b[37;40mnpm\u001b[0m \u001b[0m\u001b[30;43mWARN\u001b[0m \u001b[0m\u001b[35msaveError\u001b[0m ENOENT: no such file or directory, open '/content/package.json'\n",
            "\u001b[0m\u001b[37;40mnpm\u001b[0m \u001b[0m\u001b[34;40mnotice\u001b[0m\u001b[35m\u001b[0m created a lockfile as package-lock.json. You should commit this file.\n",
            "\u001b[0m\u001b[37;40mnpm\u001b[0m \u001b[0m\u001b[30;43mWARN\u001b[0m \u001b[0m\u001b[35menoent\u001b[0m ENOENT: no such file or directory, open '/content/package.json'\n",
            "\u001b[0m\u001b[37;40mnpm\u001b[0m \u001b[0m\u001b[30;43mWARN\u001b[0m\u001b[35m\u001b[0m content No description\n",
            "\u001b[0m\u001b[37;40mnpm\u001b[0m \u001b[0m\u001b[30;43mWARN\u001b[0m\u001b[35m\u001b[0m content No repository field.\n",
            "\u001b[0m\u001b[37;40mnpm\u001b[0m \u001b[0m\u001b[30;43mWARN\u001b[0m\u001b[35m\u001b[0m content No README data\n",
            "\u001b[0m\u001b[37;40mnpm\u001b[0m \u001b[0m\u001b[30;43mWARN\u001b[0m\u001b[35m\u001b[0m content No license field.\n",
            "\u001b[0m\n",
            "+ localtunnel@2.0.2\n",
            "added 22 packages from 22 contributors and audited 22 packages in 2.069s\n",
            "\n",
            "3 packages are looking for funding\n",
            "  run `npm fund` for details\n",
            "\n",
            "found \u001b[92m0\u001b[0m vulnerabilities\n",
            "\n",
            "\u001b[K\u001b[?25h"
          ]
        }
      ]
    },
    {
      "cell_type": "code",
      "source": [
        "!streamlit run /content/Free-AUTO-GPT-with-NO-API/Camel.py &>/content/logs.txt &\n",
        "!npx localtunnel --port 8501"
      ],
      "metadata": {
        "colab": {
          "base_uri": "https://localhost:8080/"
        },
        "outputId": "4ff51c72-49b3-4718-b1f0-526f4bddcd0d",
        "id": "BU5tujDCD6x3"
      },
      "execution_count": 16,
      "outputs": [
        {
          "output_type": "stream",
          "name": "stdout",
          "text": [
            "\u001b[K\u001b[?25hnpx: installed 22 in 3.929s\n",
            "your url is: https://seven-pans-add-35-237-170-21.loca.lt\n",
            "^C\n"
          ]
        }
      ]
    }
  ]
}